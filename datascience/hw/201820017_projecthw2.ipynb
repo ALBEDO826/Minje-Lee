{
 "cells": [
  {
   "cell_type": "code",
   "execution_count": 70,
   "id": "b557287a",
   "metadata": {},
   "outputs": [
    {
     "name": "stdout",
     "output_type": "stream",
     "text": [
      "[['physics', 98], ['calculus', 97], ['poetry', 85], ['history', 88]]\n",
      "[['physics', 98], ['calculus', 97], ['poetry', 85], ['history', 88], ['computer science', 100], ['visual arts', 93]]\n",
      "[['physics', 98], ['calculus', 97], ['poetry', 'pass'], ['history', 88], ['computer science', 100], ['visual arts', 98]]\n",
      "[['politics', 80], ['latin', 96], ['dance', 97], ['architecture', 65], ['physics', 98], ['calculus', 97], ['poetry', 'pass'], ['history', 88], ['computer science', 100], ['visual arts', 98]]\n"
     ]
    }
   ],
   "source": [
    "subjects=[\"physics\",\"calculus\",\"poetry\",\"history\"]\n",
    "grades=[98,97,85,88]\n",
    "gradebook=[[\"physics\",98],[\"calculus\",97],[\"poetry\",85],[\"history\",88]]\n",
    "print(gradebook)\n",
    "\n",
    "\n",
    "gradebook.append([\"computer science\",100])\n",
    "gradebook.append([\"visual arts\",93])\n",
    "print(gradebook)\n",
    "\n",
    "\n",
    "gradebook[5][1]+=5\n",
    "gradebook.remove([\"poetry\",85])\n",
    "gradebook.insert(2,[\"poetry\",\"pass\"])\n",
    "print(gradebook)\n",
    "\n",
    "\n",
    "last_semester_gradebook = [[\"politics\", 80], [\"latin\", 96], [\"dance\", 97], [\"architecture\", 65]]\n",
    "full_gradebook=last_semester_gradebook+gradebook\n",
    "\n",
    "print(full_gradebook)"
   ]
  }
 ],
 "metadata": {
  "kernelspec": {
   "display_name": "Python 3",
   "language": "python",
   "name": "python3"
  },
  "language_info": {
   "codemirror_mode": {
    "name": "ipython",
    "version": 3
   },
   "file_extension": ".py",
   "mimetype": "text/x-python",
   "name": "python",
   "nbconvert_exporter": "python",
   "pygments_lexer": "ipython3",
   "version": "3.8.8"
  }
 },
 "nbformat": 4,
 "nbformat_minor": 5
}
