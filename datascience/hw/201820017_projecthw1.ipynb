{
 "cells": [
  {
   "cell_type": "code",
   "execution_count": 1,
   "id": "18109992",
   "metadata": {},
   "outputs": [
    {
     "name": "stdout",
     "output_type": "stream",
     "text": [
      "Customer One Items:\n",
      "Lovely Loveseat. Tufted polyester blend on wood. 32 inches high x 40 inches wide x 30 inches deep. Red or white.Luxurious Lamp. Glass and iron. 36 inches tall. Brown with cream shade.\n",
      "Customer One Total:\n",
      "333.09119999999996\n"
     ]
    }
   ],
   "source": [
    "lovely_loveseat_description=\"Lovely Loveseat. Tufted polyester blend on wood. 32 inches high x 40 inches wide x 30 inches deep. Red or white.\"\n",
    "lovely_loveseat_price=254.00\n",
    "# Lovely Loveseat에 대한 정보와 가격 설정\n",
    "\n",
    "stylish_settee_description=\"Stylish Settee. Faux leather on birch. 29.50 inches high x 54.75 inches wide x 28 inches deep. Black.\"\n",
    "stylish_settee_price=180.50\n",
    "# Stylish Settee에 대한 정보와 가격 설정\n",
    "\n",
    "luxurious_lamp_description=\"Luxurious Lamp. Glass and iron. 36 inches tall. Brown with cream shade.\"\n",
    "luxurious_lamp_price=52.15\n",
    "# Luxurious Lamp에 대한 정보와 가격 설정\n",
    "\n",
    "sales_tax=.088\n",
    "#세금\n",
    "\n",
    "\n",
    "customer_one_total=0\n",
    "customer_one_itemization=\"\"\n",
    "# 사용자 지갑과 아이템 창을 나타내는 변수 생성\n",
    "\n",
    "customer_one_total=lovely_loveseat_price\n",
    "customer_one_itemization=lovely_loveseat_description\n",
    "#사용자가 구매한 Lovely Loveseat에 대한 정보와 가격을 변수에 입력\n",
    "\n",
    "customer_one_total+=luxurious_lamp_price\n",
    "customer_one_itemization+=luxurious_lamp_description\n",
    "#사용자가 추가로 구매한 Luxurious Lamp에 대한 정보와 가격을 변수에 업데이트\n",
    "\n",
    "\n",
    "customer_one_tax=customer_one_total*sales_tax\n",
    "#총 세금 계산식=총 가격*세금\n",
    "\n",
    "customer_one_total+=customer_one_tax\n",
    "#세금을 포함한, 사용자가 지불해야 하는 최종 가격\n",
    "\n",
    "\n",
    "print(\"Customer One Items:\")\n",
    "print(customer_one_itemization)\n",
    "print(\"Customer One Total:\")\n",
    "print(customer_one_total)\n",
    "#아이템 정보와 총 가격 화면에 출력하기"
   ]
  },
  {
   "cell_type": "code",
   "execution_count": null,
   "id": "cc5cfcc0",
   "metadata": {},
   "outputs": [],
   "source": []
  }
 ],
 "metadata": {
  "kernelspec": {
   "display_name": "Python 3",
   "language": "python",
   "name": "python3"
  },
  "language_info": {
   "codemirror_mode": {
    "name": "ipython",
    "version": 3
   },
   "file_extension": ".py",
   "mimetype": "text/x-python",
   "name": "python",
   "nbconvert_exporter": "python",
   "pygments_lexer": "ipython3",
   "version": "3.8.8"
  }
 },
 "nbformat": 4,
 "nbformat_minor": 5
}
